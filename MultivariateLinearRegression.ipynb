{
 "cells": [
  {
   "attachments": {},
   "cell_type": "markdown",
   "metadata": {},
   "source": [
    "# Multivariate Linear Regression"
   ]
  },
  {
   "attachments": {},
   "cell_type": "markdown",
   "metadata": {},
   "source": [
    "### Data to be used\n",
    "\n",
    "Independent variable : Combat score\n",
    "\n",
    "Dependent variables: kills, damage, headshot %, loadout value"
   ]
  },
  {
   "cell_type": "code",
   "execution_count": 2,
   "metadata": {},
   "outputs": [],
   "source": [
    "from sklearn.linear_model import LinearRegression\n",
    "from sklearn.pipeline import Pipeline\n",
    "from sklearn.preprocessing import StandardScaler\n",
    "from sklearn.model_selection import train_test_split\n",
    "from sklearn.metrics import mean_absolute_error, mean_squared_error\n",
    "import matplotlib.pylab as plt\n",
    "import pandas as pd\n",
    "import numpy as np\n",
    "import json"
   ]
  },
  {
   "cell_type": "code",
   "execution_count": 10,
   "metadata": {},
   "outputs": [],
   "source": [
    "# Open the JSON file containing the data\n",
    "file = open(\"data.json\")\n",
    "\n",
    "# Load the data from the JSON file\n",
    "data = json.load(file)\n",
    "\n",
    "# Access the 'matches' data from the loaded JSON\n",
    "matches = data['data']\n",
    "\n",
    "# Define the player's unique identifier (PUUID)\n",
    "puuid = '6ffcd21d-1888-516a-b8ac-c49fd1a7220d'\n",
    "\n",
    "# Initialize empty lists to store round stats and combat scores\n",
    "round_stats = []\n",
    "combat_scores = []\n",
    "\n",
    "# Iterate through each match in the data\n",
    "for match in matches:   \n",
    "    # Check if the match is not a Deathmatch or Team Deathmatch mode\n",
    "    if match[\"metadata\"][\"mode\"] != \"Deathmatch\" and match[\"metadata\"][\"mode\"] != \"Team Deathmatch\":\n",
    "        # Access the rounds within the match\n",
    "        rounds = match['rounds']\n",
    "\n",
    "        # Iterate through each round within the match\n",
    "        for round in rounds:\n",
    "            # Access the player stats for each round\n",
    "            round_player_stats = round['player_stats']\n",
    "\n",
    "            # Iterate through each player's stats in the round\n",
    "            for player in round_player_stats:\n",
    "                # Check if the player's PUUID matches the desired PUUID\n",
    "                if player['player_puuid'] == puuid:\n",
    "                    # Extract relevant statistics for the player\n",
    "                    kills = player['kills']\n",
    "                    damage = player['damage']\n",
    "\n",
    "                    # Calculate the headshot percentage\n",
    "                    if player['headshots'] + player['bodyshots'] + player['legshots'] == 0:\n",
    "                        headshot_percent = 0\n",
    "                    else:\n",
    "                        headshot_percent = player['headshots'] / (\n",
    "                            player['headshots'] + player['bodyshots'] + player['legshots'])\n",
    "\n",
    "                    loadout_value = player['economy']['loadout_value']\n",
    "\n",
    "                    # Store the player's statistics for the round\n",
    "                    player_values = [kills, damage,\n",
    "                                     headshot_percent, loadout_value]\n",
    "                    round_stats.append(player_values)\n",
    "\n",
    "                    # Store the player's combat score\n",
    "                    combat_scores.append(player['score'])"
   ]
  },
  {
   "cell_type": "code",
   "execution_count": 11,
   "metadata": {},
   "outputs": [
    {
     "data": {
      "text/html": [
       "<div>\n",
       "<style scoped>\n",
       "    .dataframe tbody tr th:only-of-type {\n",
       "        vertical-align: middle;\n",
       "    }\n",
       "\n",
       "    .dataframe tbody tr th {\n",
       "        vertical-align: top;\n",
       "    }\n",
       "\n",
       "    .dataframe thead th {\n",
       "        text-align: right;\n",
       "    }\n",
       "</style>\n",
       "<table border=\"1\" class=\"dataframe\">\n",
       "  <thead>\n",
       "    <tr style=\"text-align: right;\">\n",
       "      <th></th>\n",
       "      <th>Kills</th>\n",
       "      <th>Damage</th>\n",
       "      <th>Headshot %</th>\n",
       "      <th>Loadout Value</th>\n",
       "    </tr>\n",
       "  </thead>\n",
       "  <tbody>\n",
       "    <tr>\n",
       "      <th>30</th>\n",
       "      <td>0</td>\n",
       "      <td>30</td>\n",
       "      <td>0.000000</td>\n",
       "      <td>700</td>\n",
       "    </tr>\n",
       "    <tr>\n",
       "      <th>303</th>\n",
       "      <td>1</td>\n",
       "      <td>202</td>\n",
       "      <td>0.142857</td>\n",
       "      <td>2700</td>\n",
       "    </tr>\n",
       "    <tr>\n",
       "      <th>26</th>\n",
       "      <td>0</td>\n",
       "      <td>26</td>\n",
       "      <td>0.000000</td>\n",
       "      <td>2700</td>\n",
       "    </tr>\n",
       "    <tr>\n",
       "      <th>0</th>\n",
       "      <td>0</td>\n",
       "      <td>0</td>\n",
       "      <td>0.000000</td>\n",
       "      <td>2500</td>\n",
       "    </tr>\n",
       "    <tr>\n",
       "      <th>40</th>\n",
       "      <td>0</td>\n",
       "      <td>40</td>\n",
       "      <td>0.000000</td>\n",
       "      <td>3650</td>\n",
       "    </tr>\n",
       "    <tr>\n",
       "      <th>...</th>\n",
       "      <td>...</td>\n",
       "      <td>...</td>\n",
       "      <td>...</td>\n",
       "      <td>...</td>\n",
       "    </tr>\n",
       "    <tr>\n",
       "      <th>348</th>\n",
       "      <td>1</td>\n",
       "      <td>208</td>\n",
       "      <td>0.000000</td>\n",
       "      <td>4000</td>\n",
       "    </tr>\n",
       "    <tr>\n",
       "      <th>0</th>\n",
       "      <td>0</td>\n",
       "      <td>0</td>\n",
       "      <td>0.000000</td>\n",
       "      <td>4600</td>\n",
       "    </tr>\n",
       "    <tr>\n",
       "      <th>113</th>\n",
       "      <td>0</td>\n",
       "      <td>113</td>\n",
       "      <td>0.000000</td>\n",
       "      <td>3000</td>\n",
       "    </tr>\n",
       "    <tr>\n",
       "      <th>0</th>\n",
       "      <td>0</td>\n",
       "      <td>0</td>\n",
       "      <td>0.000000</td>\n",
       "      <td>4600</td>\n",
       "    </tr>\n",
       "    <tr>\n",
       "      <th>266</th>\n",
       "      <td>1</td>\n",
       "      <td>150</td>\n",
       "      <td>0.000000</td>\n",
       "      <td>4600</td>\n",
       "    </tr>\n",
       "  </tbody>\n",
       "</table>\n",
       "<p>78 rows × 4 columns</p>\n",
       "</div>"
      ],
      "text/plain": [
       "     Kills  Damage  Headshot %  Loadout Value\n",
       "30       0      30    0.000000            700\n",
       "303      1     202    0.142857           2700\n",
       "26       0      26    0.000000           2700\n",
       "0        0       0    0.000000           2500\n",
       "40       0      40    0.000000           3650\n",
       "..     ...     ...         ...            ...\n",
       "348      1     208    0.000000           4000\n",
       "0        0       0    0.000000           4600\n",
       "113      0     113    0.000000           3000\n",
       "0        0       0    0.000000           4600\n",
       "266      1     150    0.000000           4600\n",
       "\n",
       "[78 rows x 4 columns]"
      ]
     },
     "execution_count": 11,
     "metadata": {},
     "output_type": "execute_result"
    }
   ],
   "source": [
    "#Assigning the dependent variables (X) and independent variable (y)\n",
    "X = round_stats\n",
    "y = combat_scores\n",
    "\n",
    "#Viewing the data\n",
    "dataframe = pd.DataFrame(X,y,[\"Kills\", \"Damage\", \"Headshot %\", \"Loadout Value\"])\n",
    "dataframe"
   ]
  },
  {
   "attachments": {},
   "cell_type": "markdown",
   "metadata": {},
   "source": [
    "## Single variable linear regression"
   ]
  },
  {
   "cell_type": "code",
   "execution_count": 29,
   "metadata": {},
   "outputs": [],
   "source": [
    "# Enter Variable to be used\n",
    "# \"Kills\", \"Damage\", \"Headshot %\", \"Loadout Value\"\n",
    "\n",
    "variable_number = 1"
   ]
  },
  {
   "cell_type": "code",
   "execution_count": 30,
   "metadata": {},
   "outputs": [
    {
     "data": {
      "image/png": "[encoded data removed]",
      "text/plain": [
       "<Figure size 640x480 with 1 Axes>"
      ]
     },
     "metadata": {},
     "output_type": "display_data"
    }
   ],
   "source": [
    "#Plotting Single Variable Regression\n",
    "X_reshaped = np.array([item[variable_number] for item in X]).reshape(-1, 1)\n",
    "X_train, X_test, y_train, y_test = train_test_split(\n",
    "    X_reshaped, y, test_size=0.4, random_state=45)\n",
    "\n",
    "pipe = Pipeline([\n",
    "    (\"scale\", StandardScaler()),\n",
    "    (\"model\", LinearRegression())\n",
    "])\n",
    "\n",
    "#Training and Predicting\n",
    "y_pred = pipe.fit(X_train, y_train).predict(X_test)\n",
    "\n",
    "#Plotting\n",
    "plt.scatter(X_train, y_train)\n",
    "plt.plot(X_test, y_pred, color='red')\n",
    "\n",
    "plt.show()"
   ]
  },
  {
   "attachments": {},
   "cell_type": "markdown",
   "metadata": {},
   "source": [
    "## Multivariate Linear Regression"
   ]
  },
  {
   "cell_type": "code",
   "execution_count": 31,
   "metadata": {},
   "outputs": [],
   "source": [
    "# Enter Variable to be displayed\n",
    "variables = (\"Kills\", \"Damage\", \"Headshot %\", \"Loadout Value\")\n",
    "\n",
    "variable_number = 3"
   ]
  },
  {
   "cell_type": "code",
   "execution_count": 32,
   "metadata": {},
   "outputs": [],
   "source": [
    "#Creating the model\n",
    "pipe = Pipeline([\n",
    "    (\"scale\", StandardScaler()),\n",
    "    (\"model\", LinearRegression())\n",
    "])\n",
    "\n",
    "\n",
    "#Splitting the data\n",
    "X_train, X_test, y_train, y_test = train_test_split(X, y, test_size=0.4, random_state= 45)\n",
    "\n",
    "#Training\n",
    "pipe.fit(X_train, y_train)\n",
    "\n",
    "#Predicting\n",
    "y_pred = pipe.predict(X_test)"
   ]
  },
  {
   "cell_type": "code",
   "execution_count": 33,
   "metadata": {},
   "outputs": [
    {
     "data": {
      "image/png": "[encoded data removed]",
      "text/plain": [
       "<Figure size 640x480 with 1 Axes>"
      ]
     },
     "metadata": {},
     "output_type": "display_data"
    }
   ],
   "source": [
    "#Plotting the Multivariate regression\n",
    "\n",
    "plt.scatter([item[variable_number]\n",
    "            for item in X_train], y_train, label='Training Data')\n",
    "plt.scatter([item[variable_number] for item in X_test],\n",
    "            y_pred, color='red', label='Predicted Data')\n",
    "plt.scatter([item[variable_number] for item in X_test],\n",
    "            y_test, color='green', label='Actual Data')\n",
    "\n",
    "plt.title(\"Valorant Data\")\n",
    "plt.xlabel(variables[variable_number])\n",
    "plt.ylabel(\"Combat Score\")\n",
    "plt.legend()\n",
    "\n",
    "plt.show()"
   ]
  },
  {
   "attachments": {},
   "cell_type": "markdown",
   "metadata": {},
   "source": [
    "## Metrics\n",
    "\n",
    " Mean Squared Error (MSE): This is the most commonly used metric for evaluating a Linear Regression model. It measures the average of the squared differences between the predicted values and the actual values. A lower MSE indicates better performance.\n",
    "\n",
    " Root Mean Squared Error (RMSE): This is the square root of the MSE and provides a more interpretable metric since it is in the same units as the target variable.\n",
    "\n",
    " Mean Absolute Error (MAE): This metric measures the average absolute differences between the predicted and actual values. It is less sensitive to outliers than the MSE.\n"
   ]
  },
  {
   "cell_type": "code",
   "execution_count": 34,
   "metadata": {},
   "outputs": [
    {
     "name": "stdout",
     "output_type": "stream",
     "text": [
      "MAE: 20.47798672151933\n",
      "MSE: 798.3561112967918\n",
      "RMSE: 28.25519618223862\n"
     ]
    }
   ],
   "source": [
    "mae = mean_absolute_error(y_true=y_test,y_pred=y_pred)\n",
    "\n",
    "#squared True returns MSE value, False returns RMSE value.\n",
    "mse = mean_squared_error(y_true=y_test,y_pred=y_pred) #default=True\n",
    "rmse = mean_squared_error(y_true=y_test,y_pred=y_pred,squared=False)\n",
    "print(\"MAE:\",mae)\n",
    "print(\"MSE:\",mse)\n",
    "print(\"RMSE:\",rmse)"
   ]
  }
 ],
 "metadata": {
  "kernelspec": {
   "display_name": "Python 3",
   "language": "python",
   "name": "python3"
  },
  "language_info": {
   "codemirror_mode": {
    "name": "ipython",
    "version": 3
   },
   "file_extension": ".py",
   "mimetype": "text/x-python",
   "name": "python",
   "nbconvert_exporter": "python",
   "pygments_lexer": "ipython3",
   "version": "3.10.9"
  },
  "orig_nbformat": 4
 },
 "nbformat": 4,
 "nbformat_minor": 2
}
